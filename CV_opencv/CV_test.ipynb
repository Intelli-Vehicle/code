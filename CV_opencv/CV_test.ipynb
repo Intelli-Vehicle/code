{
 "cells": [
  {
   "cell_type": "code",
   "metadata": {
    "cell_id": "00000-bba6257a-b1c6-4095-9049-1351830ed4ce",
    "deepnote_cell_type": "code"
   },
   "source": "import cv2\nimport numpy as np",
   "outputs": [],
   "execution_count": 1
  },
  {
   "cell_type": "code",
   "metadata": {
    "cell_id": "00001-ab7175a2-a32c-429b-ae67-d36c236e8955",
    "deepnote_cell_type": "code"
   },
   "source": "def average_pooling(img, G):\n    out = img.copy()\n    k = img.copy()\n    H, W = img.shape\n    Nh = int(H / G)\n    Nw = int(W / G)\n\n    for y in range(Nh):\n        for x in range(Nw):\n                k[y, x] = np.mean(out[G*y:G*(y+1), G*x:G*(x+1)]).astype(np.int)\n    k = k[1:Nh,1:Nw]\n    return k",
   "outputs": [],
   "execution_count": 2
  },
  {
   "cell_type": "code",
   "metadata": {
    "cell_id": "00002-1205770c-572c-468b-ad03-d461da5e7776",
    "deepnote_cell_type": "code"
   },
   "source": "########################################读数预处理\nsrc = cv2.imdecode(np.fromfile('road_1.jpg', dtype=np.uint8), -1)\n\ngray = cv2.cvtColor(src, cv2.COLOR_BGR2GRAY)\n\n#######################################卷积核设置\n\nkern_A = np.array(([-1,0,1],\n                  [-2,0,2],\n                  [-1,0,1]),dtype=\"float32\")\nkern_B = np.array(([1,2,1],\n                  [0,0,0],\n                  [-1,-2,-1]),dtype=\"float32\")\nkern_C = np.array(([1,0],\n                  [0,-1]),dtype=\"float32\")\nkern_D = np.array(([0,1],\n                   [0,-1]),dtype=\"float32\")\nkern_E = np.array(([-1,0,1],\n                  [-1,0,1],\n                  [-1,0,1]),dtype=\"float32\")\nkern_F = np.array(([1,1,1],\n                  [0,0,0],\n                  [-1,-1,-1]),dtype=\"float32\")\nkern_G = np.array(([0,1,0],\n                  [1,-4,1],\n                  [0,1,0]),dtype=\"float32\")\nkern_H = np.array(([1,1,1],\n                  [1,-8,1],\n                  [1,1,1]),dtype=\"float32\")\nkern_I = np.array(([0,1,2],\n                  [-1,0,1],\n                  [-2,-1,0]),dtype=\"float32\")\nkern_J = np.array(([-2,-1,0],\n                  [-1,0,1],\n                  [2,1,2]),dtype=\"float32\")\n####################################各类梯度算子\n#Sobel\n    #横向\nA = cv2.filter2D(gray,-1,kern_A)\n    #纵向\nB = cv2.filter2D(gray,-1,kern_B)\n    #45\nI = cv2.filter2D(gray,-1,kern_I)\n    #135\nJ = cv2.filter2D(gray,-1,kern_J)\n#二阶\n    #135\nC = cv2.filter2D(gray,-1,kern_C)\n    #45\nD = cv2.filter2D(gray,-1,kern_D)\n#Prewitt\n    #横向\nE = cv2.filter2D(gray,-1,kern_E)\n    #纵向\nF = cv2.filter2D(gray,-1,kern_F)\n#Laplace\n    #2向\nG = cv2.filter2D(gray,-1,kern_G)\n    #4向\nH = cv2.filter2D(gray,-1,kern_H)   \n\n\n#Sobel综合\nCan1 = A^2+B^2\n#二阶综合\nCan2 = C^2+D^2\n#Prewitt综合\nCan3 = E^2+F^2\n#Sobel斜向综合\nCan4 = I^2+J^2\n\n#均值\nAVG = average_pooling(Can3,10)\n#阈值\nretval, dst = cv2.threshold(AVG, 80, 255, cv2.THRESH_BINARY)\n\n\nH, W = dst.shape\ncenter = direction = W/2#center of the width\ngap = 0\n\n#MM!\n#for n in range(1,11):\n #           index=H+1-n*(H/10)\n  #          #print(index)\n   #         color = dst[int(index)]                \n    #        white_count = np.sum(color == 255)\n     #       white_index = np.where(color == 255)\n      #      if white_count != 0:\n       #         center = 0 \n        #        for i in range(0,white_count):\n         #           center+=white_index[0][i]\n          #      center=center/white_count\n                #center = np.mean(white_index,axis=1)\n                #print(avg)\n           # direction = 0.8*direction+0.2*center\n#gap = direction - H/2\n#print(gap)  \n\n##MM2\nline = np.sum(dst,axis=0)\nline = line/np.sum(line)\nfor i in range(1,142):\n    gap += i*line[i]\ngap = gap-W/2\nprint(gap)\ncv2.imshow('canny+threshold',dst)\ncv2.waitKey(0)\ncv2.destroyAllWindows()",
   "outputs": [
    {
     "name": "stdout",
     "output_type": "stream",
     "text": "-9.74449076831447\n"
    }
   ],
   "execution_count": 3
  },
  {
   "cell_type": "code",
   "metadata": {
    "cell_id": "00003-9ddf60b7-6b5f-40c7-baed-050f40084be6",
    "deepnote_cell_type": "code"
   },
   "source": "def CannyThreshold(val):\n    low_threshold = val\n    #img_blur = cv2.blur(src_gray, (3,3))\n    detected_edges = cv2.Canny(src_gray, low_threshold, 400, kernel_size)\n    mask = detected_edges != 0\n    dst = src * (mask[:,:,None].astype(src.dtype))\n    cv2.imshow(window_name, dst)",
   "outputs": [],
   "execution_count": 4
  },
  {
   "cell_type": "code",
   "metadata": {
    "scrolled": true,
    "cell_id": "00004-46b3cf8a-4b97-47d3-94b7-a2c3dbef7ed8",
    "deepnote_cell_type": "code"
   },
   "source": "window_name = 'Canny'\nratio = 3\nkernel_size = 3\n\n\nsrc = cv2.imdecode(np.fromfile('road_1.jpg', dtype=np.uint8), -1)\n#x, y = src.shape[0:2]\n#src = cv2.resize(src, (int(y / 5), int(x / 5)))\n#src = cv2.GaussianBlur(src, (3, 3), 0)\n#src = cv2.blur(src,(3, 3))\nsrc_gray = cv2.cvtColor(src, cv2.COLOR_BGR2GRAY)\n \ncv2.namedWindow(window_name)\n \ncv2.createTrackbar('Min threshold', window_name, 0, 0, CannyThreshold)\n \nCannyThreshold(0)  # initialization\nif cv2.waitKey(0) == 27:\n    cv2.destroyAllWindows()",
   "outputs": [],
   "execution_count": null
  },
  {
   "cell_type": "code",
   "metadata": {
    "scrolled": true,
    "cell_id": "00005-a4be5c41-20db-45e3-b321-b81f8c6c0493",
    "deepnote_cell_type": "code"
   },
   "source": "src = cv2.imdecode(np.fromfile('road_1.jpg', dtype=np.uint8), -1)\n#blur = cv2.GaussianBlur(test, (3, 3), 0)\n#blur = cv2.blur(test,(9, 9))\nx, y = src.shape[0:2]\nsrc_gray = cv2.cvtColor(src, cv2.COLOR_BGR2GRAY)\nsrc_scale = cv2.resize(src_gray, (int(y / 5), int(x / 5)))\n\n#src = cv2.GaussianBlur(src_gray, (3, 3), 0)\n#src = cv2.bilateralFilter(src_gray, 40, 75, 75)\ndetected_edges = cv2.Canny(src_scale, 250, 400, 3)\nimg_blur = cv2.blur(detected_edges, (30,30))\n#img_blur = cv2.GaussianBlur(detected_edges, (3,3),0)\nretval, dst = cv2.threshold(img_blur, 30, 255, cv2.THRESH_BINARY)\n#dst = cv2.medianBlur(img_blur,3)\ncv2.imshow('canny+threshold',src_scale)\ncv2.waitKey(0)\ncv2.destroyAllWindows()",
   "outputs": [],
   "execution_count": 26
  },
  {
   "cell_type": "code",
   "metadata": {
    "cell_id": "00006-7cbdc617-ac41-4535-8934-7448dcd0d478",
    "deepnote_cell_type": "code"
   },
   "source": "kernel = np.ones((5, 5), dtype=np.uint8)\ndilate1 = cv2.dilate(dst, kernel, iterations=3)\nerosion1 = cv2.erode(dilate1, kernel, iterations=3)\ndilate2 = cv2.dilate(erosion1, kernel, iterations=3)\nerosion2 = cv2.erode(dilate2, kernel, iterations=3)\n\n\ncv2.imshow('canny+threshold+dilate_erosion',erosion2)\ncv2.waitKey(0)\ncv2.destroyAllWindows()",
   "outputs": [],
   "execution_count": null
  },
  {
   "cell_type": "code",
   "metadata": {
    "cell_id": "00007-66310315-79b3-4b10-a1bb-87496bf83d55",
    "deepnote_cell_type": "code"
   },
   "source": "",
   "outputs": [],
   "execution_count": null
  },
  {
   "cell_type": "code",
   "metadata": {
    "cell_id": "00008-de841c57-08b9-4658-b658-a039b40febb8",
    "deepnote_cell_type": "code"
   },
   "source": "window_name = 'Canny'\nratio = 3\nkernel_size = 3\n\nsrc = cv2.imdecode(np.fromfile('road_1.jpg', dtype=np.uint8), -1)\nx, y = src.shape[0:2]\nsrc = cv2.resize(src, (int(y / 5), int(x / 5)))\nsrc_gray = cv2.cvtColor(src, cv2.COLOR_BGR2GRAY)\nblur = cv2.bilateralFilter(src_gray, 40, 75, 75)\n\n\n\ncv2.namedWindow(window_name)\n\ncv2.createTrackbar('Min threshold', window_name, 0, 200, CannyThreshold)\n \nCannyThreshold(0)  # initialization\nif cv2.waitKey(0) == 27:\n    cv2.destroyAllWindows()",
   "outputs": [],
   "execution_count": null
  },
  {
   "cell_type": "code",
   "metadata": {
    "cell_id": "00009-133ab3ce-ac04-4c78-94a1-e4d532f24c2e",
    "deepnote_cell_type": "code"
   },
   "source": "",
   "outputs": [],
   "execution_count": null
  },
  {
   "cell_type": "code",
   "metadata": {
    "cell_id": "00010-c7901e75-94c3-4f76-b34c-00a294142867",
    "deepnote_cell_type": "code"
   },
   "source": "",
   "outputs": [],
   "execution_count": null
  },
  {
   "cell_type": "code",
   "metadata": {
    "cell_id": "00011-ff347a59-beae-478c-8b7c-59fc0ee811ad",
    "deepnote_cell_type": "code"
   },
   "source": "import cv2\nimport numpy as np\n \n# robert 算子[[-1,-1],[1,1]]\ndef robert_suanzi(img):\n\tr, c = img.shape\n\tr_sunnzi = [[-1,-1],[1,1]]\n\tfor x in range(r):\n\t\tfor y in range(c):\n\t\t\tif (y + 2 <= c) and (x + 2 <= r):\n\t\t\t\timgChild = img[x:x+2, y:y+2]\n\t\t\t\tlist_robert = r_sunnzi*imgChild\n\t\t\t\timg[x, y] = abs(list_robert.sum())\t\t# 求和加绝对值\n\treturn img\n \n# # sobel算子的实现\ndef sobel_suanzi(img):\n\tr, c = img.shape\n\tnew_image = np.zeros((r, c))\n\tnew_imageX = np.zeros(img.shape)\n\tnew_imageY = np.zeros(img.shape)\n\ts_suanziX = np.array([[-1,0,1],[-2,0,2],[-1,0,1]])\t\t# X方向\n\ts_suanziY = np.array([[-1,-2,-1],[0,0,0],[1,2,1]])\n\tfor i in range(r-2):\n\t\tfor j in range(c-2):\n\t\t\tnew_imageX[i+1, j+1] = abs(np.sum(img[i:i+3, j:j+3] * s_suanziX))\n\t\t\tnew_imageY[i+1, j+1] = abs(np.sum(img[i:i+3, j:j+3] * s_suanziY))\n\t\t\tnew_image[i+1, j+1] = (new_imageX[i+1, j+1]*new_imageX[i+1,j+1] + new_imageY[i+1, j+1]*new_imageY[i+1,j+1])**0.5\n\t# return np.uint8(new_imageX)\n\t# return np.uint8(new_imageY)\n\treturn np.uint8(new_image)\t# 无方向算子处理的图像\n \n# Laplace算子\n# 常用的Laplace算子模板  [[0,1,0],[1,-4,1],[0,1,0]]   [[1,1,1],[1,-8,1],[1,1,1]]\ndef Laplace_suanzi(img):\n\tr, c = img.shape\n\tnew_image = np.zeros((r, c))\n\tL_sunnzi = np.array([[0,-1,0],[-1,4,-1],[0,-1,0]])\n\t# L_sunnzi = np.array([[1,1,1],[1,-8,1],[1,1,1]])\n\tfor i in range(r-2):\n\t\tfor j in range(c-2):\n\t\t\tnew_image[i+1, j+1] = abs(np.sum(img[i:i+3, j:j+3] * L_sunnzi))\n\treturn np.uint8(new_image)\n \nimg = cv2.imread('road_1.jpg', cv2.IMREAD_GRAYSCALE)\ncv2.imshow('image', img)\n \n# # robers算子\nout_robert = robert_suanzi(img)\ncv2.imshow('out_robert_image', out_robert)\n \n# sobel 算子\nout_sobel = sobel_suanzi(img)\ncv2.imshow('out_sobel_image', out_sobel)\n \n# Laplace算子\nout_laplace = Laplace_suanzi(img)\ncv2.imshow('out_laplace_image', out_laplace)\n \ncv2.waitKey(0)\ncv2.destroyAllWindows()",
   "outputs": [],
   "execution_count": null
  },
  {
   "cell_type": "markdown",
   "source": "<a style='text-decoration:none;line-height:16px;display:flex;color:#5B5B62;padding:10px;justify-content:end;' href='https://deepnote.com?utm_source=created-in-deepnote-cell&projectId=0b7d4f1d-1157-44b1-b649-86c1b5b030c7' target=\"_blank\">\n<img alt='Created in deepnote.com' style='display:inline;max-height:16px;margin:0px;margin-right:7.5px;' src='data:image/svg+xml;base64,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' > </img>\nCreated in <span style='font-weight:600;margin-left:4px;'>Deepnote</span></a>",
   "metadata": {
    "tags": [],
    "created_in_deepnote_cell": true,
    "deepnote_cell_type": "markdown"
   }
  }
 ],
 "nbformat": 4,
 "nbformat_minor": 2,
 "metadata": {
  "kernelspec": {
   "display_name": "Python 3",
   "language": "python",
   "name": "python3"
  },
  "language_info": {
   "codemirror_mode": {
    "name": "ipython",
    "version": 3
   },
   "file_extension": ".py",
   "mimetype": "text/x-python",
   "name": "python",
   "nbconvert_exporter": "python",
   "pygments_lexer": "ipython3",
   "version": "3.7.3"
  },
  "deepnote_notebook_id": "ef096c5e-0e6e-4121-892f-e219a9590fd2",
  "deepnote": {},
  "deepnote_execution_queue": []
 }
}